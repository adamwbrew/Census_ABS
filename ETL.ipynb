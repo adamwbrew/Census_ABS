{
 "cells": [
  {
   "cell_type": "markdown",
   "metadata": {},
   "source": [
    "# **ETL Report for the US Census Bureau's Annual Business Survey**\n",
    "\n",
    "# Introduction\n",
    "\n",
    "---\n",
    "\n",
    "The US Census Bureau's Annual Business Survey (ABS) gathers demographic and economic information about businesses and business owners. There are four main ABS datasets aggregated by the Census Bureau and made available to the public via an API We will be looking at the 2019 survey results. According to the Census Bureau:<br>\n",
    "\"**Company Summary** provides data for employer businesses by sector, sex, ethnicity, race, veteran status, years in business, receipts size of firm, and employment size of firm for the U.S., states, and metro areas. \"<br>\n",
    "\"**Characteristics of Businesses** provides data for respondent employer firms by sector, sex, ethnicity, race, veteran status, years in business, receipts size of firm, and employment size of firm for the U.S., states, and metro areas, including detailed business characteristics.\"<br>\n",
    "\"**Characteristics of Business Owners** provides data for owners of respondent employer firms by sector, sex, ethnicity, race, and veteran status for the U.S., states, and metro areas, including detailed owner characteristics.\"<br>\n",
    "\"**Technology Characteristics of Businesses** provides data on technology use and production for Artificial Intelligence, Cloud-Based Computing, Specialized Software, Robotics, and Specialized Equipment technologies data at the U.S and State level for 2018.\"\n",
    "\n",
    "When looking at data at the state level, we wanted to normalize the data by population. We pulled in another CSV from the Census Bureau that Contained population data for each state.\n",
    "\n",
    "In order to create map visualizations, we also needed to pull in a CSV that contained state names and abbreviations.\n",
    "\n",
    "These data sets need to be transformed in order to make meaningful visualizations. \n",
    "\n",
    "# Data Sources\n",
    "\n",
    "---\n",
    "\n",
    "The documentation for the US Census Bureau's Annual Business Survey API can be found here https://www.census.gov/data/developers/data-sets/abs.2019.html and the data is accessed by calling the API.\n",
    "\n",
    "\n",
    "The documentation for the US Census Bureau's Population Esitmations can be found here https://www.census.gov/newsroom/press-kits/2019/national-state-estimates.html and the data is accessed by downloading NST-EST2019-alldata CSV.\n",
    "\n",
    "The CSV for the abbreviations can be accessed here https://worldpopulationreview.com/states/state-abbreviations.\n",
    "\n",
    "\n",
    "### Citations\n",
    "US Census Bureau. (2021, October 14). Annual Business Survey (ABS) APIs. Census.gov. Retrieved September 2, 2022, from https://www.census.gov/data/developers/data-sets/abs.2019.html\n",
    "\n",
    "US Census Bureau. (2021, October 8). 2019 National and State Population Estimates. Census.gov. Retrieved September 2, 2022, from https://www.census.gov/newsroom/press-kits/2019/national-state-estimates.html\n",
    "\n",
    "List of State Abbreviations (Download CSV, JSON). Retrieved September 2, 2022, from https://worldpopulationreview.com/states/state-abbreviations\n",
    "# Transforming and Cleaning\n",
    "---"
   ]
  },
  {
   "cell_type": "markdown",
   "metadata": {},
   "source": [
    "## **Imports and API Key**\n",
    "\n",
    "The following python libraries are necessary for transforming the data: `pandas`, `requests`. API keys can be obtained by following this link: https://www.census.gov/data/developers/guidance/api-user-guide.Help_&_Contact_Us.html and clicking on 'Request a Key' on the left-hand side of the page. The personal API key should be stored in a config.py file.\n"
   ]
  },
  {
   "cell_type": "code",
   "execution_count": 1,
   "metadata": {},
   "outputs": [],
   "source": [
    "import pandas as pd\n",
    "from Configuration.config_ import apikey\n",
    "import requests"
   ]
  },
  {
   "cell_type": "markdown",
   "metadata": {},
   "source": [
    "## **Census Population Data by State**\n",
    "In order to later standardize the the aggregated census value data column 'FIRMPDEMP', we imported a seconday census dataset showing National, Regional, and State total populations to hopefully reduce population size bias. The data come from <href>https://www.census.gov/newsroom/press-kits/2019/national-state-estimates.html</href> which has total populations from a range of years with excess data meaning it required cleaning. "
   ]
  },
  {
   "cell_type": "markdown",
   "metadata": {},
   "source": [
    "1. Read in the data on the excel `'nst-est2019-01.xlsx'` table with the pandas `pd.read_excel()` function, skipping 3 rows to remove excess title information. "
   ]
  },
  {
   "cell_type": "code",
   "execution_count": 3,
   "metadata": {},
   "outputs": [],
   "source": [
    "census_national_populations = pd.read_excel(\"./Files/nst-est2019-01.xlsx\", skiprows=3)"
   ]
  },
  {
   "cell_type": "markdown",
   "metadata": {},
   "source": [
    "2. Rename to two needed columns in the data so that `'Unamed 0'` becomes `'State'` and `2018` becomes `'Population'`."
   ]
  },
  {
   "cell_type": "code",
   "execution_count": 4,
   "metadata": {},
   "outputs": [],
   "source": [
    "census_national_populations = census_national_populations.rename(columns={\"Unnamed: 0\": \"State\", 2018:\"Population\"})"
   ]
  },
  {
   "cell_type": "markdown",
   "metadata": {},
   "source": [
    "3. Remove all other columns using the pandas `pd.drop()` function. "
   ]
  },
  {
   "cell_type": "code",
   "execution_count": 5,
   "metadata": {},
   "outputs": [],
   "source": [
    "census_national_populations = census_national_populations.drop([\"Census\", \"Estimates Base\",2010,2011,2012,2013,2014,2015,2016,2017,2019],axis=1)"
   ]
  },
  {
   "cell_type": "markdown",
   "metadata": {},
   "source": [
    "4. Remove any unneeded row once again using the `pd.drop()` function. "
   ]
  },
  {
   "cell_type": "code",
   "execution_count": 6,
   "metadata": {},
   "outputs": [],
   "source": [
    "census_national_populations = census_national_populations.drop([0,1,2,3,4,56,57,58,59,60,61,62])"
   ]
  },
  {
   "cell_type": "markdown",
   "metadata": {},
   "source": [
    "5. Use lambda functions to map all the `'State'` column data to be a string and all the `'Population'` column data to be a float. \n",
    "6. In the lambda function for the `'State'` column we also remove the first character from each string which was a period makes it so we can't accurately refrence the state location."
   ]
  },
  {
   "cell_type": "code",
   "execution_count": 7,
   "metadata": {},
   "outputs": [],
   "source": [
    "census_national_populations['State'] = census_national_populations['State'].apply(lambda x : str(x[1:]))\n",
    "census_national_populations[\"Population\"] = census_national_populations[\"Population\"].apply(lambda x : float(x))"
   ]
  },
  {
   "cell_type": "markdown",
   "metadata": {},
   "source": [
    "7. Reset the index, moving a secondary manipulated index column into the DataFrame, then remove it with `pd.drop()` as it is an excess column only refrencing the unmanipluated table previously imported. "
   ]
  },
  {
   "cell_type": "code",
   "execution_count": 8,
   "metadata": {},
   "outputs": [],
   "source": [
    "census_national_populations.reset_index(inplace=True)\n",
    "census_national_populations = census_national_populations.drop(\"index\",axis=1)"
   ]
  },
  {
   "cell_type": "markdown",
   "metadata": {},
   "source": [
    "This leaves us with `census_national_populations` DataFrame, which contains state names and total population in 2018."
   ]
  },
  {
   "cell_type": "markdown",
   "metadata": {},
   "source": [
    "## **Company Summary**\n",
    "\n",
    "### Calling the API\n",
    "1. Request both U.S. and State data from the 2019 Annual Business Survey (ABS) Company Summary. We use `request.get()` to pull the data from the Census website then use requests method `.json()` in order to transform the data into a list of lists split by newlines at the end of each row. We only import columns variables `NAME`, `SEX`, `SEX_LABEL`, `RACE_GROUP`, `RACE_GROUP_LABEL`, `FIRMPDEMP`. This is to limit unneeded data calls and grab needed information for later visualizations.<br>\n",
    "\n",
    "    For US Level Data\n",
    "    https://api.census.gov/data/2018/abscs?get=NAME,SEX,SEX_LABEL,RACE_GROUP,RACE_GROUP_LABEL,FIRMPDEMP&for=us:*&key={apikey}\n",
    "\n",
    "    For State Level Data\n",
    "    https://api.census.gov/data/2018/abscs?get=NAME,SEX,SEX_LABEL,RACE_GROUP,RACE_GROUP_LABEL,FIRMPDEMP&for=state:*&key={apikey}\n",
    "    \n",
    "    The imported U.S. data is named `reponse_company_summary_Nation` and the state data is named `reponse_company_summary_State`."
   ]
  },
  {
   "cell_type": "code",
   "execution_count": 9,
   "metadata": {},
   "outputs": [],
   "source": [
    "reponse_company_summary_Nation = requests.get(f\"https://api.census.gov/data/2018/abscs?get=NAME,SEX,SEX_LABEL,RACE_GROUP,RACE_GROUP_LABEL,FIRMPDEMP&for=us:*&key={apikey}\").json()\n",
    "reponse_company_summary_State = requests.get(f\"https://api.census.gov/data/2018/abscs?get=NAME,SEX,SEX_LABEL,RACE_GROUP,RACE_GROUP_LABEL,FIRMPDEMP&for=state:*&key={apikey}\").json()"
   ]
  },
  {
   "cell_type": "markdown",
   "metadata": {},
   "source": [
    "2. Transform both datasets from list of lists to a pandas DataFrame using `pd.DataFrame()`. The first list of each dataset was set to 'columns' meaning it would be the header of the table and then set the rest of the dataset to 'data' representing each list as a row in the DataFrame. The list `reponse_company_summary_Nation` transforms to `df_company_summary_Nation`, and `reponse_company_summary_State` transforms to `df_company_summary_State`."
   ]
  },
  {
   "cell_type": "code",
   "execution_count": 10,
   "metadata": {},
   "outputs": [],
   "source": [
    "df_company_summary_Nation = pd.DataFrame(data=reponse_company_summary_Nation[1:], columns=reponse_company_summary_Nation[0])\n",
    "df_company_summary_State = pd.DataFrame(data=reponse_company_summary_State[1:], columns=reponse_company_summary_State[0])"
   ]
  },
  {
   "cell_type": "markdown",
   "metadata": {},
   "source": [
    "### Data Cleaning and Transforming\n",
    "\n",
    "*State Level*\n",
    "1. Make a copy of `df_company_summary_State` for ease of use."
   ]
  },
  {
   "cell_type": "code",
   "execution_count": 11,
   "metadata": {},
   "outputs": [],
   "source": [
    "df_company_summary_State = df_company_summary_State.copy()"
   ]
  },
  {
   "cell_type": "markdown",
   "metadata": {},
   "source": [
    "2. Rename the column `'NAME'` in `df_company_summary_State` to `'State'`"
   ]
  },
  {
   "cell_type": "code",
   "execution_count": 12,
   "metadata": {},
   "outputs": [],
   "source": [
    "df_company_summary_State = df_company_summary_State.rename(columns={\"NAME\":\"State\"})"
   ]
  },
  {
   "cell_type": "markdown",
   "metadata": {},
   "source": [
    "3. Merge `df_company_summary_State` with `census_national_populations` with an inner merge on the column `'State'`."
   ]
  },
  {
   "cell_type": "code",
   "execution_count": 13,
   "metadata": {},
   "outputs": [],
   "source": [
    "df_company_summary_State = df_company_summary_State.merge(census_national_populations, how= 'inner', on=\"State\")"
   ]
  },
  {
   "cell_type": "markdown",
   "metadata": {},
   "source": [
    "4. Drop the `'state'` column as it is unessacary for later visualizations."
   ]
  },
  {
   "cell_type": "code",
   "execution_count": 14,
   "metadata": {},
   "outputs": [],
   "source": [
    "df_company_summary_State = df_company_summary_State.drop([\"state\"], axis = 1)"
   ]
  },
  {
   "cell_type": "markdown",
   "metadata": {},
   "source": [
    "5. Rename the column `'Population'` to `'Total_Population'` so it's easier to understand the meaning of the column. "
   ]
  },
  {
   "cell_type": "code",
   "execution_count": 15,
   "metadata": {},
   "outputs": [],
   "source": [
    "df_company_summary_State = df_company_summary_State.rename(columns={\"Population\":\"Total_Population\"})"
   ]
  },
  {
   "cell_type": "markdown",
   "metadata": {},
   "source": [
    "6. Set the columns `'FIRMPDEMP'` and `'Total_Population'` to integers to allow later amthimatical transformations."
   ]
  },
  {
   "cell_type": "code",
   "execution_count": 16,
   "metadata": {},
   "outputs": [],
   "source": [
    "df_company_summary_State[\"FIRMPDEMP\"] = df_company_summary_State[\"FIRMPDEMP\"].astype(int)\n",
    "df_company_summary_State[\"Total_Population\"] = df_company_summary_State[\"Total_Population\"].astype(int)"
   ]
  },
  {
   "cell_type": "markdown",
   "metadata": {},
   "source": [
    "7. Copy `df_company_summary_State` and setting it to `df_company_summary_State_bussniess_per_population` to better refrence the meaning of the dataset. "
   ]
  },
  {
   "cell_type": "code",
   "execution_count": 17,
   "metadata": {},
   "outputs": [],
   "source": [
    "df_company_summary_State_bussniess_per_population = df_company_summary_State.copy()"
   ]
  },
  {
   "cell_type": "markdown",
   "metadata": {},
   "source": [
    "8. Create a new column called `'Bus_Num_by_Pop'` to refrence a column finding the number of busniesses based on the total population of the state which is calculated by dividing the `'FIRMPDEMP'` column by the `'Total_Population'` column that is then mutliplied by 100 to create a proportional percentage column. "
   ]
  },
  {
   "cell_type": "code",
   "execution_count": 18,
   "metadata": {},
   "outputs": [],
   "source": [
    "df_company_summary_State_bussniess_per_population[\"Bus_Num_by_Pop\"] = (df_company_summary_State_bussniess_per_population[\"FIRMPDEMP\"] / df_company_summary_State_bussniess_per_population[\"Total_Population\"]) * 100"
   ]
  },
  {
   "cell_type": "markdown",
   "metadata": {},
   "source": [
    "9. Remove unneeded columns; `'RACE_GROUP'`, `'Total_Population'`, `'SEX'`, `'FIRMPDEMP'`."
   ]
  },
  {
   "cell_type": "code",
   "execution_count": 19,
   "metadata": {},
   "outputs": [],
   "source": [
    "df_company_summary_State_bussniess_per_population = df_company_summary_State_bussniess_per_population.drop([\"RACE_GROUP\", \"Total_Population\", \"SEX\", \"FIRMPDEMP\"], axis=1)"
   ]
  },
  {
   "cell_type": "markdown",
   "metadata": {},
   "source": [
    "10. Clean the remaining columns by taking out rows with labels that aggregagte rows together such as `'Total'` and `'Equally male/female'` for the `'SEX_LABEL'` column and `'Total'`, `'Minority'`, `'Nonminority'`, and `'Equally minority/nonminority'` for the `'RACE_GROUP_LABEL'` column. This leaves `df_company_summary_State_bussniess_per_population` with only 4 columns."
   ]
  },
  {
   "cell_type": "code",
   "execution_count": 20,
   "metadata": {},
   "outputs": [],
   "source": [
    "df_company_summary_State_bussniess_per_population = df_company_summary_State_bussniess_per_population[df_company_summary_State_bussniess_per_population[\"SEX_LABEL\"] != \"Total\"]\n",
    "df_company_summary_State_bussniess_per_population = df_company_summary_State_bussniess_per_population[df_company_summary_State_bussniess_per_population[\"SEX_LABEL\"] != \"Equally male/female\"]\n",
    "df_company_summary_State_bussniess_per_population = df_company_summary_State_bussniess_per_population[df_company_summary_State_bussniess_per_population[\"RACE_GROUP_LABEL\"] != \"Total\"]\n",
    "df_company_summary_State_bussniess_per_population = df_company_summary_State_bussniess_per_population[df_company_summary_State_bussniess_per_population[\"RACE_GROUP_LABEL\"] != \"Minority\"]\n",
    "df_company_summary_State_bussniess_per_population = df_company_summary_State_bussniess_per_population[df_company_summary_State_bussniess_per_population[\"RACE_GROUP_LABEL\"] != \"Nonminority\"]\n",
    "df_company_summary_State_bussniess_per_population = df_company_summary_State_bussniess_per_population[df_company_summary_State_bussniess_per_population[\"RACE_GROUP_LABEL\"] != \"Equally minority/nonminority\"]"
   ]
  },
  {
   "cell_type": "markdown",
   "metadata": {},
   "source": [
    "11. Use a complex pandas `groupby()` function to group by categorical columns `'State'`, `'SEX_LABEL'`, and `'RACE_GROUP_LABEL'` then aggregate a sum of the `'Bus_Num_by_Pop'` by grouping. "
   ]
  },
  {
   "cell_type": "code",
   "execution_count": 21,
   "metadata": {},
   "outputs": [
    {
     "data": {
      "text/html": [
       "<div>\n",
       "<style scoped>\n",
       "    .dataframe tbody tr th:only-of-type {\n",
       "        vertical-align: middle;\n",
       "    }\n",
       "\n",
       "    .dataframe tbody tr th {\n",
       "        vertical-align: top;\n",
       "    }\n",
       "\n",
       "    .dataframe thead th {\n",
       "        text-align: right;\n",
       "    }\n",
       "</style>\n",
       "<table border=\"1\" class=\"dataframe\">\n",
       "  <thead>\n",
       "    <tr style=\"text-align: right;\">\n",
       "      <th></th>\n",
       "      <th>State</th>\n",
       "      <th>SEX_LABEL</th>\n",
       "      <th>RACE_GROUP_LABEL</th>\n",
       "      <th>Bus_Num_by_Pop</th>\n",
       "    </tr>\n",
       "  </thead>\n",
       "  <tbody>\n",
       "    <tr>\n",
       "      <th>0</th>\n",
       "      <td>Alabama</td>\n",
       "      <td>Female</td>\n",
       "      <td>American Indian and Alaska Native</td>\n",
       "      <td>0.000000</td>\n",
       "    </tr>\n",
       "    <tr>\n",
       "      <th>1</th>\n",
       "      <td>Alabama</td>\n",
       "      <td>Female</td>\n",
       "      <td>Asian</td>\n",
       "      <td>0.030055</td>\n",
       "    </tr>\n",
       "    <tr>\n",
       "      <th>2</th>\n",
       "      <td>Alabama</td>\n",
       "      <td>Female</td>\n",
       "      <td>Black or African American</td>\n",
       "      <td>0.011007</td>\n",
       "    </tr>\n",
       "    <tr>\n",
       "      <th>3</th>\n",
       "      <td>Alabama</td>\n",
       "      <td>Female</td>\n",
       "      <td>Native Hawaiian and Other Pacific Islander</td>\n",
       "      <td>0.000000</td>\n",
       "    </tr>\n",
       "    <tr>\n",
       "      <th>4</th>\n",
       "      <td>Alabama</td>\n",
       "      <td>Female</td>\n",
       "      <td>White</td>\n",
       "      <td>0.209650</td>\n",
       "    </tr>\n",
       "    <tr>\n",
       "      <th>...</th>\n",
       "      <td>...</td>\n",
       "      <td>...</td>\n",
       "      <td>...</td>\n",
       "      <td>...</td>\n",
       "    </tr>\n",
       "    <tr>\n",
       "      <th>492</th>\n",
       "      <td>Wyoming</td>\n",
       "      <td>Male</td>\n",
       "      <td>American Indian and Alaska Native</td>\n",
       "      <td>0.000000</td>\n",
       "    </tr>\n",
       "    <tr>\n",
       "      <th>493</th>\n",
       "      <td>Wyoming</td>\n",
       "      <td>Male</td>\n",
       "      <td>Asian</td>\n",
       "      <td>0.036877</td>\n",
       "    </tr>\n",
       "    <tr>\n",
       "      <th>494</th>\n",
       "      <td>Wyoming</td>\n",
       "      <td>Male</td>\n",
       "      <td>Black or African American</td>\n",
       "      <td>0.000000</td>\n",
       "    </tr>\n",
       "    <tr>\n",
       "      <th>495</th>\n",
       "      <td>Wyoming</td>\n",
       "      <td>Male</td>\n",
       "      <td>Native Hawaiian and Other Pacific Islander</td>\n",
       "      <td>0.000000</td>\n",
       "    </tr>\n",
       "    <tr>\n",
       "      <th>496</th>\n",
       "      <td>Wyoming</td>\n",
       "      <td>Male</td>\n",
       "      <td>White</td>\n",
       "      <td>1.318384</td>\n",
       "    </tr>\n",
       "  </tbody>\n",
       "</table>\n",
       "<p>497 rows × 4 columns</p>\n",
       "</div>"
      ],
      "text/plain": [
       "       State SEX_LABEL                            RACE_GROUP_LABEL  \\\n",
       "0    Alabama    Female           American Indian and Alaska Native   \n",
       "1    Alabama    Female                                       Asian   \n",
       "2    Alabama    Female                   Black or African American   \n",
       "3    Alabama    Female  Native Hawaiian and Other Pacific Islander   \n",
       "4    Alabama    Female                                       White   \n",
       "..       ...       ...                                         ...   \n",
       "492  Wyoming      Male           American Indian and Alaska Native   \n",
       "493  Wyoming      Male                                       Asian   \n",
       "494  Wyoming      Male                   Black or African American   \n",
       "495  Wyoming      Male  Native Hawaiian and Other Pacific Islander   \n",
       "496  Wyoming      Male                                       White   \n",
       "\n",
       "     Bus_Num_by_Pop  \n",
       "0          0.000000  \n",
       "1          0.030055  \n",
       "2          0.011007  \n",
       "3          0.000000  \n",
       "4          0.209650  \n",
       "..              ...  \n",
       "492        0.000000  \n",
       "493        0.036877  \n",
       "494        0.000000  \n",
       "495        0.000000  \n",
       "496        1.318384  \n",
       "\n",
       "[497 rows x 4 columns]"
      ]
     },
     "execution_count": 21,
     "metadata": {},
     "output_type": "execute_result"
    }
   ],
   "source": [
    "df_company_summary_State_bussniess_per_population.groupby([\"State\", \"SEX_LABEL\", \"RACE_GROUP_LABEL\" ] ,as_index=False)[\"Bus_Num_by_Pop\"].sum()"
   ]
  },
  {
   "cell_type": "markdown",
   "metadata": {},
   "source": [
    "12. Sort the DataFrame alphabeticly by categorical columns `'State'`, `'SEX_LABEL'`, and `'RACE_GROUP_LABEL'`. This gives us a sorted aggragated DataFrame which can be refrenced by state, sex, and race showing the numericaly standarized column `'Bus_Num_by_Pop'`."
   ]
  },
  {
   "cell_type": "code",
   "execution_count": 22,
   "metadata": {},
   "outputs": [
    {
     "data": {
      "text/html": [
       "<div>\n",
       "<style scoped>\n",
       "    .dataframe tbody tr th:only-of-type {\n",
       "        vertical-align: middle;\n",
       "    }\n",
       "\n",
       "    .dataframe tbody tr th {\n",
       "        vertical-align: top;\n",
       "    }\n",
       "\n",
       "    .dataframe thead th {\n",
       "        text-align: right;\n",
       "    }\n",
       "</style>\n",
       "<table border=\"1\" class=\"dataframe\">\n",
       "  <thead>\n",
       "    <tr style=\"text-align: right;\">\n",
       "      <th></th>\n",
       "      <th>State</th>\n",
       "      <th>SEX_LABEL</th>\n",
       "      <th>RACE_GROUP_LABEL</th>\n",
       "      <th>Bus_Num_by_Pop</th>\n",
       "    </tr>\n",
       "  </thead>\n",
       "  <tbody>\n",
       "    <tr>\n",
       "      <th>950</th>\n",
       "      <td>Alabama</td>\n",
       "      <td>Female</td>\n",
       "      <td>American Indian and Alaska Native</td>\n",
       "      <td>0.000000</td>\n",
       "    </tr>\n",
       "    <tr>\n",
       "      <th>951</th>\n",
       "      <td>Alabama</td>\n",
       "      <td>Male</td>\n",
       "      <td>American Indian and Alaska Native</td>\n",
       "      <td>0.004910</td>\n",
       "    </tr>\n",
       "    <tr>\n",
       "      <th>954</th>\n",
       "      <td>Alabama</td>\n",
       "      <td>Female</td>\n",
       "      <td>Asian</td>\n",
       "      <td>0.030055</td>\n",
       "    </tr>\n",
       "    <tr>\n",
       "      <th>955</th>\n",
       "      <td>Alabama</td>\n",
       "      <td>Male</td>\n",
       "      <td>Asian</td>\n",
       "      <td>0.063752</td>\n",
       "    </tr>\n",
       "    <tr>\n",
       "      <th>942</th>\n",
       "      <td>Alabama</td>\n",
       "      <td>Female</td>\n",
       "      <td>Black or African American</td>\n",
       "      <td>0.011007</td>\n",
       "    </tr>\n",
       "  </tbody>\n",
       "</table>\n",
       "</div>"
      ],
      "text/plain": [
       "       State SEX_LABEL                   RACE_GROUP_LABEL  Bus_Num_by_Pop\n",
       "950  Alabama    Female  American Indian and Alaska Native        0.000000\n",
       "951  Alabama      Male  American Indian and Alaska Native        0.004910\n",
       "954  Alabama    Female                              Asian        0.030055\n",
       "955  Alabama      Male                              Asian        0.063752\n",
       "942  Alabama    Female          Black or African American        0.011007"
      ]
     },
     "execution_count": 22,
     "metadata": {},
     "output_type": "execute_result"
    }
   ],
   "source": [
    "df_company_summary_State_bussniess_per_population = df_company_summary_State_bussniess_per_population.sort_values(by=[\"State\",\"RACE_GROUP_LABEL\", \"SEX_LABEL\"], ascending=True)\n",
    "df_company_summary_State_bussniess_per_population.head()"
   ]
  },
  {
   "cell_type": "markdown",
   "metadata": {},
   "source": [
    "*US Level*\n",
    "1. Copy the `df_company_summary_Nation` DataFrame and named the copy `df_company_summary_Overall` to show the data would be changed. "
   ]
  },
  {
   "cell_type": "code",
   "execution_count": 23,
   "metadata": {},
   "outputs": [],
   "source": [
    "df_company_summary_Overall = df_company_summary_Nation.copy()"
   ]
  },
  {
   "cell_type": "markdown",
   "metadata": {},
   "source": [
    "2. Rename the `'NAME'` column `'Location'`."
   ]
  },
  {
   "cell_type": "code",
   "execution_count": 24,
   "metadata": {},
   "outputs": [],
   "source": [
    "df_company_summary_Overall = df_company_summary_Overall.rename(columns={\"NAME\":\"Location\"})"
   ]
  },
  {
   "cell_type": "markdown",
   "metadata": {},
   "source": [
    "3. Drop the `'RACE_GROUP'`, `'SEX'`, and `'us'` columns"
   ]
  },
  {
   "cell_type": "code",
   "execution_count": 25,
   "metadata": {},
   "outputs": [],
   "source": [
    "df_company_summary_Overall = df_company_summary_Overall.drop([\"RACE_GROUP\", \"SEX\", \"us\"], axis=1)"
   ]
  },
  {
   "cell_type": "markdown",
   "metadata": {},
   "source": [
    "4. Remove unneeded columns in the `df_company_summary_Overall` DataFrame such as `'Total'` and `'Equally male/female'` for the `'SEX_LABEL'` column and `'Total'`, `'Minority'`, `'Nonminority'`, and `'Equally minority/nonminority'` for the `'RACE_GROUP_LABEL'` column."
   ]
  },
  {
   "cell_type": "code",
   "execution_count": 26,
   "metadata": {},
   "outputs": [],
   "source": [
    "df_company_summary_Overall = df_company_summary_Overall[df_company_summary_Overall[\"SEX_LABEL\"] != \"Total\"]\n",
    "df_company_summary_Overall = df_company_summary_Overall[df_company_summary_Overall[\"SEX_LABEL\"] != \"Equally male/female\"]\n",
    "df_company_summary_Overall = df_company_summary_Overall[df_company_summary_Overall[\"RACE_GROUP_LABEL\"] != \"Total\"]\n",
    "df_company_summary_Overall = df_company_summary_Overall[df_company_summary_Overall[\"RACE_GROUP_LABEL\"] != \"Minority\"]\n",
    "df_company_summary_Overall = df_company_summary_Overall[df_company_summary_Overall[\"RACE_GROUP_LABEL\"] != \"Nonminority\"]\n",
    "df_company_summary_Overall = df_company_summary_Overall[df_company_summary_Overall[\"RACE_GROUP_LABEL\"] != \"Equally minority/nonminority\"]"
   ]
  },
  {
   "cell_type": "markdown",
   "metadata": {},
   "source": [
    "5. Group the data by the categorical columns `'Location'`, `'SEX_LABEL'`, and `'RACE_GROUP_LABEL'` and aggragated the sum of the `'FIRMPDEMP'`. "
   ]
  },
  {
   "cell_type": "code",
   "execution_count": 27,
   "metadata": {},
   "outputs": [
    {
     "data": {
      "text/html": [
       "<div>\n",
       "<style scoped>\n",
       "    .dataframe tbody tr th:only-of-type {\n",
       "        vertical-align: middle;\n",
       "    }\n",
       "\n",
       "    .dataframe tbody tr th {\n",
       "        vertical-align: top;\n",
       "    }\n",
       "\n",
       "    .dataframe thead th {\n",
       "        text-align: right;\n",
       "    }\n",
       "</style>\n",
       "<table border=\"1\" class=\"dataframe\">\n",
       "  <thead>\n",
       "    <tr style=\"text-align: right;\">\n",
       "      <th></th>\n",
       "      <th>Location</th>\n",
       "      <th>SEX_LABEL</th>\n",
       "      <th>RACE_GROUP_LABEL</th>\n",
       "      <th>FIRMPDEMP</th>\n",
       "    </tr>\n",
       "  </thead>\n",
       "  <tbody>\n",
       "    <tr>\n",
       "      <th>0</th>\n",
       "      <td>United States</td>\n",
       "      <td>Female</td>\n",
       "      <td>American Indian and Alaska Native</td>\n",
       "      <td>8985</td>\n",
       "    </tr>\n",
       "    <tr>\n",
       "      <th>1</th>\n",
       "      <td>United States</td>\n",
       "      <td>Female</td>\n",
       "      <td>Asian</td>\n",
       "      <td>154984</td>\n",
       "    </tr>\n",
       "    <tr>\n",
       "      <th>2</th>\n",
       "      <td>United States</td>\n",
       "      <td>Female</td>\n",
       "      <td>Black or African American</td>\n",
       "      <td>43163</td>\n",
       "    </tr>\n",
       "    <tr>\n",
       "      <th>3</th>\n",
       "      <td>United States</td>\n",
       "      <td>Female</td>\n",
       "      <td>Native Hawaiian and Other Pacific Islander</td>\n",
       "      <td>0</td>\n",
       "    </tr>\n",
       "    <tr>\n",
       "      <th>4</th>\n",
       "      <td>United States</td>\n",
       "      <td>Female</td>\n",
       "      <td>White</td>\n",
       "      <td>945514</td>\n",
       "    </tr>\n",
       "    <tr>\n",
       "      <th>5</th>\n",
       "      <td>United States</td>\n",
       "      <td>Male</td>\n",
       "      <td>American Indian and Alaska Native</td>\n",
       "      <td>14559</td>\n",
       "    </tr>\n",
       "    <tr>\n",
       "      <th>6</th>\n",
       "      <td>United States</td>\n",
       "      <td>Male</td>\n",
       "      <td>Asian</td>\n",
       "      <td>336622</td>\n",
       "    </tr>\n",
       "    <tr>\n",
       "      <th>7</th>\n",
       "      <td>United States</td>\n",
       "      <td>Male</td>\n",
       "      <td>Black or African American</td>\n",
       "      <td>69624</td>\n",
       "    </tr>\n",
       "    <tr>\n",
       "      <th>8</th>\n",
       "      <td>United States</td>\n",
       "      <td>Male</td>\n",
       "      <td>Native Hawaiian and Other Pacific Islander</td>\n",
       "      <td>4468</td>\n",
       "    </tr>\n",
       "    <tr>\n",
       "      <th>9</th>\n",
       "      <td>United States</td>\n",
       "      <td>Male</td>\n",
       "      <td>White</td>\n",
       "      <td>3087049</td>\n",
       "    </tr>\n",
       "  </tbody>\n",
       "</table>\n",
       "</div>"
      ],
      "text/plain": [
       "        Location SEX_LABEL                            RACE_GROUP_LABEL  \\\n",
       "0  United States    Female           American Indian and Alaska Native   \n",
       "1  United States    Female                                       Asian   \n",
       "2  United States    Female                   Black or African American   \n",
       "3  United States    Female  Native Hawaiian and Other Pacific Islander   \n",
       "4  United States    Female                                       White   \n",
       "5  United States      Male           American Indian and Alaska Native   \n",
       "6  United States      Male                                       Asian   \n",
       "7  United States      Male                   Black or African American   \n",
       "8  United States      Male  Native Hawaiian and Other Pacific Islander   \n",
       "9  United States      Male                                       White   \n",
       "\n",
       "  FIRMPDEMP  \n",
       "0      8985  \n",
       "1    154984  \n",
       "2     43163  \n",
       "3         0  \n",
       "4    945514  \n",
       "5     14559  \n",
       "6    336622  \n",
       "7     69624  \n",
       "8      4468  \n",
       "9   3087049  "
      ]
     },
     "execution_count": 27,
     "metadata": {},
     "output_type": "execute_result"
    }
   ],
   "source": [
    "df_company_summary_Overall.groupby([\"Location\", \"SEX_LABEL\", \"RACE_GROUP_LABEL\" ] ,as_index=False)[\"FIRMPDEMP\"].sum()"
   ]
  },
  {
   "cell_type": "markdown",
   "metadata": {},
   "source": [
    "6. Sort the values by the categorical columns `'Location'`, `'SEX_LABEL'`, and `'RACE_GROUP_LABEL'` in alphabetical order for ease of refrence when viewing in tabular form. "
   ]
  },
  {
   "cell_type": "code",
   "execution_count": 28,
   "metadata": {},
   "outputs": [],
   "source": [
    "df_company_summary_Overall = df_company_summary_Overall.sort_values(by=[\"Location\",\"RACE_GROUP_LABEL\", \"SEX_LABEL\"], ascending=True)"
   ]
  },
  {
   "cell_type": "markdown",
   "metadata": {},
   "source": [
    "7. Reset the index and dropped the unneeded index column as it refrenced the original table rather than the new cleaned table `df_company_summary_Overall`."
   ]
  },
  {
   "cell_type": "code",
   "execution_count": 29,
   "metadata": {},
   "outputs": [
    {
     "data": {
      "text/html": [
       "<div>\n",
       "<style scoped>\n",
       "    .dataframe tbody tr th:only-of-type {\n",
       "        vertical-align: middle;\n",
       "    }\n",
       "\n",
       "    .dataframe tbody tr th {\n",
       "        vertical-align: top;\n",
       "    }\n",
       "\n",
       "    .dataframe thead th {\n",
       "        text-align: right;\n",
       "    }\n",
       "</style>\n",
       "<table border=\"1\" class=\"dataframe\">\n",
       "  <thead>\n",
       "    <tr style=\"text-align: right;\">\n",
       "      <th></th>\n",
       "      <th>Location</th>\n",
       "      <th>SEX_LABEL</th>\n",
       "      <th>RACE_GROUP_LABEL</th>\n",
       "      <th>FIRMPDEMP</th>\n",
       "    </tr>\n",
       "  </thead>\n",
       "  <tbody>\n",
       "    <tr>\n",
       "      <th>0</th>\n",
       "      <td>United States</td>\n",
       "      <td>Female</td>\n",
       "      <td>American Indian and Alaska Native</td>\n",
       "      <td>8985</td>\n",
       "    </tr>\n",
       "    <tr>\n",
       "      <th>1</th>\n",
       "      <td>United States</td>\n",
       "      <td>Male</td>\n",
       "      <td>American Indian and Alaska Native</td>\n",
       "      <td>14559</td>\n",
       "    </tr>\n",
       "    <tr>\n",
       "      <th>2</th>\n",
       "      <td>United States</td>\n",
       "      <td>Female</td>\n",
       "      <td>Asian</td>\n",
       "      <td>154984</td>\n",
       "    </tr>\n",
       "    <tr>\n",
       "      <th>3</th>\n",
       "      <td>United States</td>\n",
       "      <td>Male</td>\n",
       "      <td>Asian</td>\n",
       "      <td>336622</td>\n",
       "    </tr>\n",
       "    <tr>\n",
       "      <th>4</th>\n",
       "      <td>United States</td>\n",
       "      <td>Female</td>\n",
       "      <td>Black or African American</td>\n",
       "      <td>43163</td>\n",
       "    </tr>\n",
       "    <tr>\n",
       "      <th>5</th>\n",
       "      <td>United States</td>\n",
       "      <td>Male</td>\n",
       "      <td>Black or African American</td>\n",
       "      <td>69624</td>\n",
       "    </tr>\n",
       "    <tr>\n",
       "      <th>6</th>\n",
       "      <td>United States</td>\n",
       "      <td>Female</td>\n",
       "      <td>Native Hawaiian and Other Pacific Islander</td>\n",
       "      <td>0</td>\n",
       "    </tr>\n",
       "    <tr>\n",
       "      <th>7</th>\n",
       "      <td>United States</td>\n",
       "      <td>Male</td>\n",
       "      <td>Native Hawaiian and Other Pacific Islander</td>\n",
       "      <td>4468</td>\n",
       "    </tr>\n",
       "    <tr>\n",
       "      <th>8</th>\n",
       "      <td>United States</td>\n",
       "      <td>Female</td>\n",
       "      <td>White</td>\n",
       "      <td>945514</td>\n",
       "    </tr>\n",
       "    <tr>\n",
       "      <th>9</th>\n",
       "      <td>United States</td>\n",
       "      <td>Male</td>\n",
       "      <td>White</td>\n",
       "      <td>3087049</td>\n",
       "    </tr>\n",
       "  </tbody>\n",
       "</table>\n",
       "</div>"
      ],
      "text/plain": [
       "        Location SEX_LABEL                            RACE_GROUP_LABEL  \\\n",
       "0  United States    Female           American Indian and Alaska Native   \n",
       "1  United States      Male           American Indian and Alaska Native   \n",
       "2  United States    Female                                       Asian   \n",
       "3  United States      Male                                       Asian   \n",
       "4  United States    Female                   Black or African American   \n",
       "5  United States      Male                   Black or African American   \n",
       "6  United States    Female  Native Hawaiian and Other Pacific Islander   \n",
       "7  United States      Male  Native Hawaiian and Other Pacific Islander   \n",
       "8  United States    Female                                       White   \n",
       "9  United States      Male                                       White   \n",
       "\n",
       "  FIRMPDEMP  \n",
       "0      8985  \n",
       "1     14559  \n",
       "2    154984  \n",
       "3    336622  \n",
       "4     43163  \n",
       "5     69624  \n",
       "6         0  \n",
       "7      4468  \n",
       "8    945514  \n",
       "9   3087049  "
      ]
     },
     "execution_count": 29,
     "metadata": {},
     "output_type": "execute_result"
    }
   ],
   "source": [
    "df_company_summary_Overall.reset_index(level = 0, inplace= True)\n",
    "df_company_summary_Overall = df_company_summary_Overall.drop(\"index\", axis=1)\n",
    "df_company_summary_Overall.head(10)"
   ]
  },
  {
   "cell_type": "markdown",
   "metadata": {},
   "source": [
    "This leaves the `df_company_summary_Overall DataFrame` with 4 columns for refrence. \n",
    "\n",
    "## **Charactaristics of Businesses**\n",
    "\n",
    "### Calling the API\n",
    "1. Call the following URL: http://api.census.gov/data/2018/abscb?get=GEO_ID,NAME,NAICS2017,NAICS2017_LABEL,SEX,SEX_LABEL,ETH_GROUP,ETH_GROUP_LABEL,RACE_GROUP,RACE_GROUP_LABEL,FIRMPDEMP,EMP,PAYANN&for=us:*&key={apikey}\n"
   ]
  },
  {
   "cell_type": "code",
   "execution_count": 30,
   "metadata": {},
   "outputs": [],
   "source": [
    "\n",
    "response = requests.get(f'http://api.census.gov/data/2018/abscb?get=GEO_ID,NAME,NAICS2017,NAICS2017_LABEL,SEX,SEX_LABEL,ETH_GROUP,ETH_GROUP_LABEL,RACE_GROUP,RACE_GROUP_LABEL,FIRMPDEMP,EMP,PAYANN&for=us:*&key={apikey}')"
   ]
  },
  {
   "cell_type": "markdown",
   "metadata": {},
   "source": [
    "2. Load the data from the API into a pandas DataFrame called ```business```. The column names load in as the first row in the DataFrame, ensure that the columns are named properly. After doing so, drop the first row of the DataFrame."
   ]
  },
  {
   "cell_type": "code",
   "execution_count": 31,
   "metadata": {},
   "outputs": [],
   "source": [
    "response_dict = response.json()\n",
    "business = pd.DataFrame.from_dict(response_dict)\n",
    "business.columns = business.iloc[0]\n",
    "business = business.drop(business.index[0])"
   ]
  },
  {
   "cell_type": "markdown",
   "metadata": {},
   "source": [
    "### Data Cleaning and Transforming\n",
    "\n",
    "1. Drop the columns ```GEO_ID```, ```NAME, NAICS2017,SEX, ETH_GROUP, RACE_GROUP, VET_GROUP, us ```\n"
   ]
  },
  {
   "cell_type": "code",
   "execution_count": 32,
   "metadata": {},
   "outputs": [],
   "source": [
    "drop_columns = ['GEO_ID','NAME','NAICS2017','SEX','ETH_GROUP','RACE_GROUP','us']\n",
    "business = business.drop(drop_columns, axis=1)"
   ]
  },
  {
   "cell_type": "markdown",
   "metadata": {},
   "source": [
    "2. Create more meaningful column names\n",
    "\n",
    "|Original Column Name |New Column Name |\n",
    "|--- | --- |\n",
    "|`NAICS2017_LABEL`|`industry`|\n",
    "|`SEX_LABEL`|`sex`|\n",
    "|`ETH_GROUP_LABEL`|`ethnic_group`|\n",
    "|`RACE_GROUP_LABEL`|`race`|\n",
    "|`FIRMPDEMP`|`employer_firms`|\n",
    "|`EMP`|`employees`|\n",
    "|`PAYANN`|`payroll`|"
   ]
  },
  {
   "cell_type": "code",
   "execution_count": 33,
   "metadata": {},
   "outputs": [],
   "source": [
    "business.rename(columns={'NAICS2017_LABEL':'industry',\n",
    "                        'SEX_LABEL':'sex',\n",
    "                        'ETH_GROUP_LABEL':'ethnic_group',\n",
    "                        'RACE_GROUP_LABEL':'race',\n",
    "                        'FIRMPDEMP':'employer_firms',\n",
    "                        'EMP':'employees',\n",
    "                        'PAYANN':'payroll'}, inplace=True)\n"
   ]
  },
  {
   "cell_type": "markdown",
   "metadata": {},
   "source": [
    "4. Change the data types for all numeric columns to `float`."
   ]
  },
  {
   "cell_type": "code",
   "execution_count": 34,
   "metadata": {},
   "outputs": [],
   "source": [
    "columns_float = ['employer_firms', 'employees', 'payroll']\n",
    "\n",
    "for column in columns_float:\n",
    "    business[column]=business[column].astype('float')"
   ]
  },
  {
   "cell_type": "markdown",
   "metadata": {},
   "source": [
    "### Making tables out of each demographic group\n",
    "\n",
    "For each demographic column (`sex`, `ethnic_group`, `race`), make a table that contains information about the industry, number of employer firms, number of employees, and annual payroll.\n",
    "\n",
    "1. Make variables to store each of these new DataFrames\n",
    "\n",
    "|Demographic Column Name |New DataFrame Name |\n",
    "|--- | --- |\n",
    "|`sex`|`business_sex`|\n",
    "|`ethnic_group`|`business_ethnicity`|\n",
    "|`race`|`business_race`|\n",
    "\n",
    "2. Start by simply storing a copy of the main `business` DataFrame\n",
    "\n",
    "3. Only include the demograpic column and the `industry`,`employer_firms`,`revenue`,`employees`,and `payroll` columns in the new DataFrame. \n",
    "4. For each DataFrame, exclude the rows where the demographic label is `Total`, `Classifiable`, and `Unclassifiable`.\n",
    "5. Group each DataFrame by `industry` and the demographic group while aggregating the numberic columns by their sum"
   ]
  },
  {
   "cell_type": "code",
   "execution_count": 35,
   "metadata": {},
   "outputs": [],
   "source": [
    "business_sex = business.copy()\n",
    "business_sex = business_sex[['industry','sex','employer_firms','employees','payroll']]\n",
    "business_sex = business_sex[(business_sex['sex']=='Female')|(business_sex['sex']=='Male')]\n",
    "business_sex=business_sex.groupby(['industry','sex'],as_index=False).sum()"
   ]
  },
  {
   "cell_type": "code",
   "execution_count": 36,
   "metadata": {},
   "outputs": [],
   "source": [
    "business_ethnicity = business.copy()\n",
    "business_ethnicity = business_ethnicity[['industry','ethnic_group','employer_firms','employees','payroll']]\n",
    "business_ethnicity = business_ethnicity[(business_ethnicity['ethnic_group']!='Total')&(business_ethnicity['ethnic_group']!='Classifiable')&(business_ethnicity['ethnic_group']!='Unclassifiable')]\n",
    "business_ethnicity=business_ethnicity.groupby(['industry','ethnic_group'],as_index=False).sum()"
   ]
  },
  {
   "cell_type": "code",
   "execution_count": 37,
   "metadata": {},
   "outputs": [],
   "source": [
    "business_race = business.copy()\n",
    "business_race = business_race[['industry','race','employer_firms','employees','payroll']]\n",
    "business_race = business_race[(business_race['race']!='Total')&(business_race['race']!='Classifiable')&(business_race['race']!='Unclassifiable')]\n",
    "business_race=business_race.groupby(['industry','race'],as_index=False).sum()"
   ]
  },
  {
   "cell_type": "markdown",
   "metadata": {},
   "source": [
    "We now have 4 DataFrames we can use to make visualizations\n",
    "\n",
    "## **Charactaristics of Business Owners**\n",
    "\n",
    "### Calling the API\n",
    "1. Create a national link that calls the desired data with a personal api key. Create a state link that calls the desired data with a personal api key. We analyzed demographic information on the national level, and business ownership rates on the state level so we called race and sex in the national link, and ownerhip numbers in the state link.\n",
    "\n",
    "    For US Level Data\n",
    "    https://api.census.gov/data/2018/abscbo?get=NAME,OWNER_SEX,OWNER_SEX_LABEL,OWNER_RACE,OWNER_RACE_LABEL,OWNPDEMP&for=us:*&key={apikey}\n",
    "\n",
    "    For State Level Data\n",
    "    https://api.census.gov/data/2018/abscbo?get=NAME,OWNPDEMP&for=state:*&key={apikey}"
   ]
  },
  {
   "cell_type": "code",
   "execution_count": 38,
   "metadata": {},
   "outputs": [],
   "source": [
    "nationalLink = f'https://api.census.gov/data/2018/abscbo?get=NAME,OWNER_SEX,OWNER_SEX_LABEL,OWNER_RACE,OWNER_RACE_LABEL,OWNPDEMP&for=us:*&key={apikey}'\n",
    "stateLink = f'https://api.census.gov/data/2018/abscbo?get=NAME,OWNPDEMP&for=state:*&key={apikey}'"
   ]
  },
  {
   "cell_type": "markdown",
   "metadata": {},
   "source": [
    "*US Level*\n",
    "1. Use `requests.get()` to call `nationalLink`\n",
    "2. Create more meaningful column names\n",
    "\n",
    "|Original Column Name |New Column Name |\n",
    "|--- | --- |\n",
    "|`NAME`|`location`|\n",
    "|`OWNER_SEX`|`sex`|\n",
    "|`OWNER_SEX_LABEL`|`sexLabel`|\n",
    "|`OWNER_RACE`|`race`|\n",
    "|`OWNER_RACE_LABEL`|`raceLabel`|\n",
    "|`OWNPDEMP`|`numOwners`|\n",
    "|`us`|`us`|\n",
    "\n",
    "3. Load the API data into a pandas DataFrame called `businessOwner`\n"
   ]
  },
  {
   "cell_type": "code",
   "execution_count": 39,
   "metadata": {},
   "outputs": [],
   "source": [
    "parameters = {}\n",
    "r = requests.get(nationalLink, parameters)\n",
    "colNames = [\"location\",\"sex\", \"sexLabel\", \"race\", \"raceLabel\",\"numOwners\",\"us\"]\n",
    "businessOwner = pd.DataFrame(columns=colNames, data=r.json()[1:])"
   ]
  },
  {
   "cell_type": "markdown",
   "metadata": {},
   "source": [
    "4. Remove rows that contain aggrageted total data rather than data based on individual races or sexes (where `race=00` and `sex=001`)"
   ]
  },
  {
   "cell_type": "code",
   "execution_count": 40,
   "metadata": {},
   "outputs": [],
   "source": [
    "businessOwner = businessOwner[businessOwner.sex.isin(['001']) == False]\n",
    "businessOwner = businessOwner[businessOwner.race.isin(['00']) == False]"
   ]
  },
  {
   "cell_type": "markdown",
   "metadata": {},
   "source": [
    "5. Drop uncessary columns such as `location` as we know we are looking at the whole U.S and the `sex` and `race` columns as we will only look at demographic labels."
   ]
  },
  {
   "cell_type": "code",
   "execution_count": 41,
   "metadata": {},
   "outputs": [],
   "source": [
    "businessOwner = businessOwner.drop(['location','sex', 'race','us'], axis=1)"
   ]
  },
  {
   "cell_type": "markdown",
   "metadata": {},
   "source": [
    "6. Convert `numOnwers` to an `int` value."
   ]
  },
  {
   "cell_type": "code",
   "execution_count": 42,
   "metadata": {},
   "outputs": [],
   "source": [
    "businessOwner['numOwners'] = businessOwner['numOwners'].astype(int)"
   ]
  },
  {
   "cell_type": "markdown",
   "metadata": {},
   "source": [
    "*State Level*\n",
    "1. Use `requests.get()` to call `stateLink`\n",
    "2. Create more meaningful column names\n",
    "\n",
    "|Original Column Name |New Column Name |\n",
    "|--- | --- |\n",
    "|`NAME`|`State`|\n",
    "|`OWNPDEMP`|`numOwners`|\n",
    "|`state`|`state`|\n",
    "\n",
    "3. Load the API data into a pandas DataFrame called `businessOwnerState`"
   ]
  },
  {
   "cell_type": "code",
   "execution_count": 43,
   "metadata": {},
   "outputs": [],
   "source": [
    "parameters = {}\n",
    "r = requests.get(stateLink, parameters)\n",
    "colNames = [\"State\",\"numOwners\",\"state\"]\n",
    "businessOwnerState = pd.DataFrame(columns=colNames, data=r.json()[1:])"
   ]
  },
  {
   "cell_type": "markdown",
   "metadata": {},
   "source": [
    "4. Drop the `state` column"
   ]
  },
  {
   "cell_type": "code",
   "execution_count": 44,
   "metadata": {},
   "outputs": [],
   "source": [
    "businessOwnerState = businessOwnerState.drop(['state'], axis=1)"
   ]
  },
  {
   "cell_type": "markdown",
   "metadata": {},
   "source": [
    "5. Convert `numOnwers` to an `int` value."
   ]
  },
  {
   "cell_type": "code",
   "execution_count": 45,
   "metadata": {},
   "outputs": [],
   "source": [
    "businessOwnerState['numOwners'] = businessOwnerState['numOwners'].astype(int)"
   ]
  },
  {
   "cell_type": "markdown",
   "metadata": {},
   "source": [
    "6. Merge `census_national_populations` DataFrame onto the `businessOwnersState` DataFrame using an inner join on their shared location column. This merged DataFrame is called `businessOwnersState`"
   ]
  },
  {
   "cell_type": "code",
   "execution_count": 46,
   "metadata": {},
   "outputs": [],
   "source": [
    "businessOwnerState = businessOwnerState.merge(census_national_populations, how='inner', on='State')"
   ]
  },
  {
   "cell_type": "markdown",
   "metadata": {},
   "source": [
    "7. Create a new column in the `businessOwnersState` DataFrame called `ownerPer100People` to show business owners per 100 people. Divide `numOwners` by population and multiply by 100."
   ]
  },
  {
   "cell_type": "code",
   "execution_count": 47,
   "metadata": {},
   "outputs": [],
   "source": [
    "businessOwnerState[\"onwerPer100People\"] = (businessOwnerState[\"numOwners\"] / businessOwnerState[\"Population\"]) * 100"
   ]
  },
  {
   "cell_type": "markdown",
   "metadata": {},
   "source": [
    "## **Technology charactaristics of Businesses**\n",
    "\n",
    "### Calling the API\n",
    "\n",
    "1. Call the following URLs\n",
    "\n",
    "    For US level data\n",
    "    https://api.census.gov/data/2018/abstcb?get=NAME,NAICS2017,NAICS2017_LABEL,SEX,SEX_LABEL,ETH_GROUP,ETH_GROUP_LABEL,RACE_GROUP,RACE_GROUP_LABEL,VET_GROUP,VET_GROUP_LABEL,NSFSZFI,NSFSZFI_LABEL,TECHUSE,TECHUSE_LABEL,FACTORS_P,FACTORS_P_LABEL,YEAR,FIRMPDEMP,FIRMPDEMP_F,FIRMPDEMP_PCT,FIRMPDEMP_PCT_F,RCPPDEMP,RCPPDEMP_F,RCPPDEMP_PCT,RCPPDEMP_PCT_F,EMP,EMP_F,EMP_PCT,EMP_PCT_F,PAYANN,PAYANN_F,PAYANN_PCT,PAYANN_PCT_F,FIRMPDEMP_S,FIRMPDEMP_S_F,FIRMPDEMP_PCT_S,FIRMPDEMP_PCT_S_F,RCPPDEMP_S,RCPPDEMP_S_F,RCPPDEMP_PCT_S,RCPPDEMP_PCT_S_F,EMP_S,EMP_S_F,EMP_PCT_S,EMP_PCT_S_F,PAYANN_S,PAYANN_S_F,PAYANN_PCT_S,PAYANN_PCT_S_F&for=us:*&key={apikey}\n",
    "\n",
    "    For State level data\n",
    "    https://api.census.gov/data/2018/abstcb?get=NAME,GEO_ID,NAICS2017,NAICS2017_LABEL,TECHUSE,FIRMPDEMP&for=state:*&key={apikey}\n"
   ]
  },
  {
   "cell_type": "code",
   "execution_count": 48,
   "metadata": {},
   "outputs": [],
   "source": [
    "\n",
    "response_tech_summary_us = requests.get(f'https://api.census.gov/data/2018/abstcb?get=NAME,NAICS2017,NAICS2017_LABEL,SEX,SEX_LABEL,ETH_GROUP,ETH_GROUP_LABEL,RACE_GROUP,RACE_GROUP_LABEL,VET_GROUP,VET_GROUP_LABEL,NSFSZFI,NSFSZFI_LABEL,TECHUSE,TECHUSE_LABEL,FACTORS_P,FACTORS_P_LABEL,YEAR,FIRMPDEMP,FIRMPDEMP_F,FIRMPDEMP_PCT,FIRMPDEMP_PCT_F,RCPPDEMP,RCPPDEMP_F,RCPPDEMP_PCT,RCPPDEMP_PCT_F,EMP,EMP_F,EMP_PCT,EMP_PCT_F,PAYANN,PAYANN_F,PAYANN_PCT,PAYANN_PCT_F,FIRMPDEMP_S,FIRMPDEMP_S_F,FIRMPDEMP_PCT_S,FIRMPDEMP_PCT_S_F,RCPPDEMP_S,RCPPDEMP_S_F,RCPPDEMP_PCT_S,RCPPDEMP_PCT_S_F,EMP_S,EMP_S_F,EMP_PCT_S,EMP_PCT_S_F,PAYANN_S,PAYANN_S_F,PAYANN_PCT_S,PAYANN_PCT_S_F&for=us:*&key={apikey}').json()\n",
    "\n",
    "response_tech_summary_state = requests.get(f'https://api.census.gov/data/2018/abstcb?get=NAME,GEO_ID,NAICS2017,NAICS2017_LABEL,TECHUSE,FIRMPDEMP&for=state:*&key={apikey}').json()"
   ]
  },
  {
   "cell_type": "markdown",
   "metadata": {},
   "source": [
    "2. Load the data from the US level call into a pandas DataFrame called `response_tech_summary_us`. Load the data from the State level call into a pandas DataFrame called `response_tech_summary_state`.\n",
    "3. The first row of both dataframes actually contain the column names. Ensure that the columns are named properly."
   ]
  },
  {
   "cell_type": "code",
   "execution_count": 49,
   "metadata": {},
   "outputs": [],
   "source": [
    "tech_summary_us  = pd.DataFrame(data=response_tech_summary_us[1:], columns = response_tech_summary_us[0])\n",
    "tech_summary_state = pd.DataFrame(data=response_tech_summary_state[1:], columns = response_tech_summary_state[0])"
   ]
  },
  {
   "cell_type": "markdown",
   "metadata": {},
   "source": [
    "4. We only want to keep rows that provide information that is useful for our visualizations. In the `tech_summary_us` DataFrame, only keep the `LABEL` and meaningful numeric columns. These are the columns that should be kept in the DataFrame: `NAME`, `NAICS2017_LABEL`, `SEX_LABEL`,`ETH_GROUP_LABEL`, `RACE_GROUP_LABEL`,`VET_GROUP_LABEL`, `TECHUSE`, `TECHUSE_LABEL`, `NSFSZFI_LABEL`,       `FACTORS_P_LABEL`,`FIRMPDEMP`, `FIRMPDEMP_F`,`RCPPDEMP`, `RCPPDEMP_F`, `EMP`, `EMP_F`, `PAYANN`,`PAYANN_F`."
   ]
  },
  {
   "cell_type": "code",
   "execution_count": 50,
   "metadata": {},
   "outputs": [],
   "source": [
    "tech_summary_us = tech_summary_us[['NAME', 'NAICS2017_LABEL', 'SEX_LABEL','ETH_GROUP_LABEL', 'RACE_GROUP_LABEL','VET_GROUP_LABEL', 'TECHUSE', 'TECHUSE_LABEL','NSFSZFI_LABEL',       'FACTORS_P_LABEL','FIRMPDEMP', 'FIRMPDEMP_F','RCPPDEMP', 'RCPPDEMP_F', 'EMP', 'EMP_F', 'PAYANN','PAYANN_F']]"
   ]
  },
  {
   "cell_type": "markdown",
   "metadata": {},
   "source": [
    "5. Merge the `tech_summary_us` and `tech_summary_state` using an inner join on the `TECHUSE` column. This merged DataFrame is called `tech_summary_state`.\n"
   ]
  },
  {
   "cell_type": "code",
   "execution_count": 51,
   "metadata": {},
   "outputs": [],
   "source": [
    "tech_summary_state = tech_summary_us.merge(tech_summary_state, how = 'inner', on = 'TECHUSE')"
   ]
  },
  {
   "cell_type": "markdown",
   "metadata": {},
   "source": [
    "6. Only keep the following columns in the `tech_summary_state` DataFrame: `NAME_y`, `NAICS2017_LABEL_y`, `TECHUSE`,`TECHUSE_LABEL`, `FIRMPDEMP_y`."
   ]
  },
  {
   "cell_type": "code",
   "execution_count": 52,
   "metadata": {},
   "outputs": [],
   "source": [
    "tech_summary_state = tech_summary_state[['NAME_y', 'NAICS2017_LABEL_y', 'TECHUSE','TECHUSE_LABEL', 'FIRMPDEMP_y']]"
   ]
  },
  {
   "cell_type": "markdown",
   "metadata": {},
   "source": [
    "7. Rename the columns to more meaningful names.\n",
    "\n",
    "|Original Column Name |New Column Name |\n",
    "|--- | --- |\n",
    "|`NAME_y`|`State`|\n",
    "|`NAICS2017_LABEL_y`|`NAICS2017_LABEL`|\n",
    "|`FIRMPDEMP_y`|`FIRMPDEMP`|\n"
   ]
  },
  {
   "cell_type": "code",
   "execution_count": 53,
   "metadata": {},
   "outputs": [],
   "source": [
    "tech_summary_state.rename(columns={\"NAME_y\":\"State\",\"NAICS2017_LABEL_y\":\"NAICS2017_LABEL\",\"FIRMPDEMP_y\":\"FIRMPDEMP\"},inplace=True )"
   ]
  },
  {
   "cell_type": "markdown",
   "metadata": {},
   "source": [
    "8. Ensure all numeric columns are integers"
   ]
  },
  {
   "cell_type": "code",
   "execution_count": 54,
   "metadata": {},
   "outputs": [],
   "source": [
    "tech_summary_state['FIRMPDEMP'] = tech_summary_state['FIRMPDEMP'].apply(lambda x: int(x))\n",
    "tech_summary_us['FIRMPDEMP'] = tech_summary_us['FIRMPDEMP'].apply(lambda x: int(x))\n",
    "tech_summary_us['RCPPDEMP'] = tech_summary_us['RCPPDEMP'].apply(lambda x: int(x))\n",
    "tech_summary_us['EMP'] = tech_summary_us['EMP'].apply(lambda x: int(x))\n",
    "tech_summary_us['PAYANN'] = tech_summary_us['PAYANN'].apply(lambda x: int(x))"
   ]
  },
  {
   "cell_type": "markdown",
   "metadata": {},
   "source": [
    "9. Merge the `tech_summary_state` and the `census_national_populations` with an inner merge on the `State` column. Call this merged DataFrame `tech_summary_state`."
   ]
  },
  {
   "cell_type": "code",
   "execution_count": 55,
   "metadata": {},
   "outputs": [],
   "source": [
    "tech_summary_state = tech_summary_state.merge(census_national_populations, how = 'inner', on = 'State')"
   ]
  },
  {
   "cell_type": "markdown",
   "metadata": {},
   "source": [
    "10. Create a column on the `tech_summary_state` DataFrame called `FIRMTOPOP`. Calculate the number of firms per 100 people by dividing `FRIMPDEMP` BY `Population` and multiplying by 100."
   ]
  },
  {
   "cell_type": "code",
   "execution_count": 56,
   "metadata": {},
   "outputs": [],
   "source": [
    "tech_summary_state['FIRMTOPOP'] = tech_summary_state['FIRMPDEMP']/tech_summary_state['Population']*100"
   ]
  },
  {
   "cell_type": "markdown",
   "metadata": {},
   "source": [
    "11. Drop any duplicates form the `tech_summary_state` and `tech_summary_us` DataFrames that may have come from the merge"
   ]
  },
  {
   "cell_type": "code",
   "execution_count": 57,
   "metadata": {},
   "outputs": [],
   "source": [
    "tech_summary_state.drop_duplicates(inplace = True)\n",
    "tech_summary_us.drop_duplicates(inplace= True)"
   ]
  },
  {
   "cell_type": "markdown",
   "metadata": {},
   "source": [
    "## Conclusion\n",
    "---"
   ]
  },
  {
   "cell_type": "markdown",
   "metadata": {},
   "source": [
    "After pulling in data from the Census Bureau's API, loading in some extra CSVs, and transforming multiple tables, we are now able to effectively create some visualizations."
   ]
  }
 ],
 "metadata": {
  "kernelspec": {
   "display_name": "Python 3.9.12 ('base')",
   "language": "python",
   "name": "python3"
  },
  "language_info": {
   "codemirror_mode": {
    "name": "ipython",
    "version": 3
   },
   "file_extension": ".py",
   "mimetype": "text/x-python",
   "name": "python",
   "nbconvert_exporter": "python",
   "pygments_lexer": "ipython3",
   "version": "3.9.12"
  },
  "orig_nbformat": 4,
  "vscode": {
   "interpreter": {
    "hash": "909ca5f560bbebec5e281e7237658d79e6328c8c97dd9d57b9f7776842486ec7"
   }
  }
 },
 "nbformat": 4,
 "nbformat_minor": 2
}
